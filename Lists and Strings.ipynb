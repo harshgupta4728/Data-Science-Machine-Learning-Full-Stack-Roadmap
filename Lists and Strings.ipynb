{
 "cells": [
  {
   "cell_type": "markdown",
   "id": "1170a4de-52b2-4b07-8287-f43e21878cd9",
   "metadata": {},
   "source": [
    "<font size=\"5\">LISTS</font>"
   ]
  },
  {
   "cell_type": "markdown",
   "id": "a19cf2df-4879-4e70-b208-4877de4709ec",
   "metadata": {},
   "source": [
    "<font size=\"3\">List Basics</font>"
   ]
  },
  {
   "cell_type": "code",
   "execution_count": 1,
   "id": "4f3bfeb6-d93c-49f6-95e7-d8c948d96f64",
   "metadata": {},
   "outputs": [
    {
     "name": "stdout",
     "output_type": "stream",
     "text": [
      "apple\n",
      "cherry\n",
      "['apple', 'blueberry', 'cherry']\n"
     ]
    }
   ],
   "source": [
    "# Creating a list\n",
    "fruits = [\"apple\", \"banana\", \"cherry\"]\n",
    "\n",
    "# Accessing elements by index\n",
    "print(fruits[0])\n",
    "print(fruits[-1]) # (negative index for reverse order)\n",
    "\n",
    "# Modifying a list\n",
    "fruits[1] = \"blueberry\"\n",
    "print(fruits)"
   ]
  },
  {
   "cell_type": "markdown",
   "id": "3a546286-fd3b-4650-b7d8-8fec7248cc5f",
   "metadata": {},
   "source": [
    "<font size=\"3\">List Operations</font>"
   ]
  },
  {
   "cell_type": "code",
   "execution_count": 2,
   "id": "de30f5cf-6901-4edb-b83b-826b4b8ee380",
   "metadata": {},
   "outputs": [
    {
     "name": "stdout",
     "output_type": "stream",
     "text": [
      "[2, 3]\n",
      "[1, 2, 3, 4]\n",
      "[1, 2, 1, 2, 1, 2]\n"
     ]
    }
   ],
   "source": [
    "# Slicing a list\n",
    "numbers = [1, 2, 3, 4, 5]\n",
    "print(numbers[1:3])\n",
    "\n",
    "# Concatenating lists\n",
    "list1 = [1, 2]\n",
    "list2 = [3, 4]\n",
    "combined = list1 + list2\n",
    "print(combined)\n",
    "\n",
    "# Repeating a list\n",
    "repeated = list1 * 3\n",
    "print(repeated)\n"
   ]
  },
  {
   "cell_type": "markdown",
   "id": "4cafedd1-3bd2-4274-9700-c2894f6a902e",
   "metadata": {},
   "source": [
    "<font size=\"3\">List Comprehensions</font>"
   ]
  },
  {
   "cell_type": "code",
   "execution_count": 3,
   "id": "fd35b6f9-7b0b-4acc-bcdb-1e9bf43d79d7",
   "metadata": {},
   "outputs": [
    {
     "name": "stdout",
     "output_type": "stream",
     "text": [
      "[0, 1, 4, 9, 16]\n",
      "[0, 4, 16, 36, 64]\n"
     ]
    }
   ],
   "source": [
    "# Creating a list of squares\n",
    "squares = [x**2 for x in range(5)]\n",
    "print(squares)\n",
    "\n",
    "# List comprehension with condition\n",
    "even_squares = [x**2 for x in range(10) if x % 2 == 0]\n",
    "print(even_squares)\n"
   ]
  },
  {
   "cell_type": "markdown",
   "id": "d0819126-1901-4b8a-b3c6-a617efdbf236",
   "metadata": {},
   "source": [
    "<font size=\"3\">List Methods</font>"
   ]
  },
  {
   "cell_type": "code",
   "execution_count": 4,
   "id": "23a3d391-e3f5-4b8d-96db-6f94f94b3ffb",
   "metadata": {},
   "outputs": [
    {
     "name": "stdout",
     "output_type": "stream",
     "text": [
      "['apple', 'banana', 'cherry', 'orange']\n",
      "['apple', 'banana', 'cherry', 'orange', 'mango', 'grape']\n",
      "['apple', 'blueberry', 'banana', 'cherry', 'orange', 'mango', 'grape']\n",
      "['apple', 'blueberry', 'banana', 'orange', 'mango', 'grape']\n",
      "banana\n",
      "['apple', 'blueberry', 'orange', 'mango', 'grape']\n",
      "['grape', 'mango', 'orange', 'blueberry', 'apple']\n",
      "['apple', 'blueberry', 'grape', 'mango', 'orange']\n"
     ]
    }
   ],
   "source": [
    "fruits = [\"apple\", \"banana\", \"cherry\"]\n",
    "\n",
    "# append() - Adds an element at the end of the list\n",
    "fruits.append(\"orange\")\n",
    "print(fruits)\n",
    "\n",
    "# extend() - Adds all elements of a list to another list\n",
    "fruits.extend([\"mango\", \"grape\"])\n",
    "print(fruits)\n",
    "\n",
    "# insert() - Inserts an element at a specific position\n",
    "fruits.insert(1, \"blueberry\")\n",
    "print(fruits)\n",
    "\n",
    "# remove() - Removes the first item with the specified value\n",
    "fruits.remove(\"cherry\")\n",
    "print(fruits)\n",
    "\n",
    "# pop() - Removes and returns the item at the given index\n",
    "popped_fruit = fruits.pop(2)\n",
    "print(popped_fruit)  # Output: banana\n",
    "print(fruits)  # Output: ['apple', 'blueberry', 'orange', 'mango', 'grape']\n",
    "\n",
    "# reverse() - Reverses the order of the list\n",
    "fruits.reverse()\n",
    "print(fruits)\n",
    "\n",
    "# sort() - Sorts the list in ascending order\n",
    "fruits.sort()\n",
    "print(fruits)"
   ]
  },
  {
   "cell_type": "markdown",
   "id": "fac5474b-a118-431c-b3ee-60d5db93a818",
   "metadata": {},
   "source": [
    "<font size=\"5\">STRINGS</font>"
   ]
  },
  {
   "cell_type": "markdown",
   "id": "a45d256e-65ff-4739-b446-87590609227a",
   "metadata": {},
   "source": [
    "<font size=\"3\">String Basics</font>"
   ]
  },
  {
   "cell_type": "code",
   "execution_count": 6,
   "id": "498567d9-2de7-4071-b5af-ba5a56a1ae0e",
   "metadata": {},
   "outputs": [
    {
     "name": "stdout",
     "output_type": "stream",
     "text": [
      "H\n",
      "a\n",
      "Harsh\n"
     ]
    }
   ],
   "source": [
    "# Creating a string\n",
    "name = \"Harsh Gupta\"\n",
    "\n",
    "# Accessing characters by index\n",
    "print(name[0])\n",
    "print(name[-1])\n",
    "\n",
    "# Slicing strings\n",
    "print(name[0:5])"
   ]
  },
  {
   "cell_type": "markdown",
   "id": "a3aeee06-519a-40f5-ada3-53c0db887a0e",
   "metadata": {},
   "source": [
    "<font size=\"3\">String Literals</font>"
   ]
  },
  {
   "cell_type": "code",
   "execution_count": 7,
   "id": "00e3a852-9697-4345-81e2-39ad36321e15",
   "metadata": {},
   "outputs": [
    {
     "name": "stdout",
     "output_type": "stream",
     "text": [
      "This is Harsh's notebook\n"
     ]
    }
   ],
   "source": [
    "# Single and double quotes\n",
    "quote1 = 'Single quotes string'\n",
    "quote2 = \"Double quotes string\"\n",
    "\n",
    "# Multiline strings using triple quotes\n",
    "multiline = '''This is a\n",
    "multiline string'''\n",
    "\n",
    "# Escaping special characters\n",
    "escaped = \"This is Harsh's notebook\"\n",
    "print(escaped)"
   ]
  },
  {
   "cell_type": "markdown",
   "id": "b39f2b0d-6ff3-4d5a-8a2f-71c6e35d0100",
   "metadata": {},
   "source": [
    "<font size=\"3\">String Operations</font>"
   ]
  },
  {
   "cell_type": "code",
   "execution_count": 9,
   "id": "760173db-123b-4e57-84f6-742f177bc508",
   "metadata": {},
   "outputs": [
    {
     "name": "stdout",
     "output_type": "stream",
     "text": [
      "Hello, Harsh!\n",
      "HelloHelloHello\n",
      "True\n"
     ]
    }
   ],
   "source": [
    "# String concatenation\n",
    "greeting = \"Hello\"\n",
    "name = \"Harsh\"\n",
    "full_greeting = greeting + \", \" + name + \"!\"\n",
    "print(full_greeting)\n",
    "\n",
    "# Repeating strings\n",
    "repeated = greeting * 3\n",
    "print(repeated)\n",
    "\n",
    "# Checking if substring exists\n",
    "print(\"Harsh\" in full_greeting)"
   ]
  },
  {
   "cell_type": "markdown",
   "id": "3445c29b-eddf-44c5-955d-17534d298816",
   "metadata": {},
   "source": [
    "<font size=\"3\">String Comprehensions</font>"
   ]
  },
  {
   "cell_type": "code",
   "execution_count": 10,
   "id": "cca8d47c-da36-4f32-b165-871e603aeec6",
   "metadata": {},
   "outputs": [
    {
     "name": "stdout",
     "output_type": "stream",
     "text": [
      "['H', 'a', 'r', 's', 'h']\n",
      "['H', 'A', 'R', 'S', 'H']\n"
     ]
    }
   ],
   "source": [
    "# Creating a list of characters from a string\n",
    "name = \"Harsh\"\n",
    "char_list = [char for char in name]\n",
    "print(char_list)\n",
    "\n",
    "# Creating a list of uppercase letters from a string\n",
    "uppercase_chars = [char.upper() for char in name]\n",
    "print(uppercase_chars)"
   ]
  },
  {
   "cell_type": "markdown",
   "id": "a80a15a6-a5d4-470d-8e27-6d175b8d9402",
   "metadata": {},
   "source": [
    "<font size=\"3\">String Methods</font>"
   ]
  },
  {
   "cell_type": "code",
   "execution_count": 11,
   "id": "57122900-954d-468f-b837-2ff9d12e3209",
   "metadata": {},
   "outputs": [
    {
     "name": "stdout",
     "output_type": "stream",
     "text": [
      "  HARSH GUPTA  \n",
      "  harsh gupta  \n",
      "harsh gupta\n",
      "  ayushmaan gupta  \n",
      "['harsh', 'gupta']\n",
      "harsh gupta\n",
      "8\n",
      "2\n"
     ]
    }
   ],
   "source": [
    "name = \"  harsh gupta  \"\n",
    "\n",
    "# upper() - Converts string to uppercase\n",
    "print(name.upper())\n",
    "\n",
    "# lower() - Converts string to lowercase\n",
    "print(name.lower())\n",
    "\n",
    "# strip() - Removes leading and trailing whitespace\n",
    "print(name.strip())\n",
    "\n",
    "# replace() - Replaces a substring with another string\n",
    "print(name.replace(\"harsh\", \"ayushmaan\"))\n",
    "\n",
    "# split() - Splits the string into a list\n",
    "words = name.split()\n",
    "print(words)\n",
    "\n",
    "# join() - Joins a list of strings into a single string\n",
    "joined = \" \".join(words)\n",
    "print(joined)\n",
    "\n",
    "# find() - Returns the index of the first occurrence of a substring\n",
    "print(name.find(\"gupta\"))\n",
    "\n",
    "# count() - Returns the number of occurrences of a substring\n",
    "print(name.count(\"a\"))"
   ]
  }
 ],
 "metadata": {
  "kernelspec": {
   "display_name": "Python 3 (ipykernel)",
   "language": "python",
   "name": "python3"
  },
  "language_info": {
   "codemirror_mode": {
    "name": "ipython",
    "version": 3
   },
   "file_extension": ".py",
   "mimetype": "text/x-python",
   "name": "python",
   "nbconvert_exporter": "python",
   "pygments_lexer": "ipython3",
   "version": "3.11.5"
  }
 },
 "nbformat": 4,
 "nbformat_minor": 5
}
