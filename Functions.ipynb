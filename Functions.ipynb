{
 "cells": [
  {
   "cell_type": "markdown",
   "id": "96077802-db4e-419b-a96f-6d45790d8532",
   "metadata": {},
   "source": [
    "<font size=\"5\">FUNCTIONS</font>"
   ]
  },
  {
   "cell_type": "markdown",
   "id": "b9c81117-f72e-4c95-ac9c-9a51698c5401",
   "metadata": {},
   "source": [
    "<font size=\"3\">Function Definition</font>"
   ]
  },
  {
   "cell_type": "code",
   "execution_count": 8,
   "id": "332a3968-7062-4d80-b613-02c5627e7eb6",
   "metadata": {},
   "outputs": [
    {
     "name": "stdout",
     "output_type": "stream",
     "text": [
      "Hello, Harsh!\n"
     ]
    }
   ],
   "source": [
    "# Defining a simple function\n",
    "def greet(name):\n",
    "    return f\"Hello, {name}!\"\n",
    "\n",
    "# Example call to the function\n",
    "print(greet(\"Harsh\"))"
   ]
  },
  {
   "cell_type": "markdown",
   "id": "d66a70d3-b900-47a7-9999-5b3c7b9fe8a7",
   "metadata": {},
   "source": [
    "<font size=\"3\">Function Call</font>"
   ]
  },
  {
   "cell_type": "code",
   "execution_count": 11,
   "id": "69eabc62-ef09-40b6-8711-361893bd9597",
   "metadata": {},
   "outputs": [
    {
     "name": "stdout",
     "output_type": "stream",
     "text": [
      "Hello, Ayushmaan!\n",
      "Hello, Aditya!\n"
     ]
    }
   ],
   "source": [
    "# Calling the greet function with an argument\n",
    "print(greet(\"Ayushmaan\"))\n",
    "\n",
    "# Calling with a variable\n",
    "person = \"Aditya\"\n",
    "print(greet(person))"
   ]
  },
  {
   "cell_type": "markdown",
   "id": "c2ed3597-c29a-4d20-b43b-476149bf961a",
   "metadata": {},
   "source": [
    "<font size=\"3\">Function Arguments</font>"
   ]
  },
  {
   "cell_type": "code",
   "execution_count": 12,
   "id": "78c6ac8e-6713-4701-aaf4-d7e3bee0e3c1",
   "metadata": {},
   "outputs": [
    {
     "name": "stdout",
     "output_type": "stream",
     "text": [
      "8\n"
     ]
    }
   ],
   "source": [
    "# Function with multiple arguments\n",
    "def add_numbers(a, b):\n",
    "    return a + b\n",
    "\n",
    "# Call the function with arguments\n",
    "print(add_numbers(5, 3))"
   ]
  },
  {
   "cell_type": "markdown",
   "id": "1f3f817d-e783-45a9-89e6-dc4678f82dde",
   "metadata": {},
   "source": [
    "<font size=\"3\">Default Arguments</font>"
   ]
  },
  {
   "cell_type": "code",
   "execution_count": 13,
   "id": "e123c369-3309-4cf7-8c41-fe5ea57a2197",
   "metadata": {},
   "outputs": [
    {
     "name": "stdout",
     "output_type": "stream",
     "text": [
      "Hello, Harsh!\n",
      "Hello, Guest!\n"
     ]
    }
   ],
   "source": [
    "# Function with a default argument\n",
    "def greet(name=\"Guest\"):\n",
    "    return f\"Hello, {name}!\"\n",
    "\n",
    "# Calling with and without an argument\n",
    "print(greet(\"Harsh\"))  # Output: Hello, Harsh!\n",
    "print(greet())         # Output: Hello, Guest!\n"
   ]
  },
  {
   "cell_type": "markdown",
   "id": "1c68098b-4979-4f12-a07f-a51e286df32e",
   "metadata": {},
   "source": [
    "<font size=\"3\">Docstrings</font>"
   ]
  },
  {
   "cell_type": "code",
   "execution_count": 14,
   "id": "9580cc09-6bea-4e94-ba4d-5e78cec54a06",
   "metadata": {},
   "outputs": [
    {
     "name": "stdout",
     "output_type": "stream",
     "text": [
      "Help on function multiply in module __main__:\n",
      "\n",
      "multiply(a, b)\n",
      "    This function multiplies two numbers and returns the result.\n",
      "    Parameters:\n",
      "    a (int or float): The first number.\n",
      "    b (int or float): The second number.\n",
      "    \n",
      "    Returns:\n",
      "    int or float: The result of multiplication.\n",
      "\n"
     ]
    }
   ],
   "source": [
    "def multiply(a, b):\n",
    "    \"\"\"\n",
    "    This function multiplies two numbers and returns the result.\n",
    "    Parameters:\n",
    "    a (int or float): The first number.\n",
    "    b (int or float): The second number.\n",
    "    \n",
    "    Returns:\n",
    "    int or float: The result of multiplication.\n",
    "    \"\"\"\n",
    "    return a * b\n",
    "\n",
    "# Accessing docstring\n",
    "help(multiply)\n"
   ]
  },
  {
   "cell_type": "markdown",
   "id": "6fef5b15-f947-42de-8f6a-4687e62b6fa6",
   "metadata": {},
   "source": [
    "<font size=\"3\">Scope</font>"
   ]
  },
  {
   "cell_type": "code",
   "execution_count": 15,
   "id": "29a1e423-cbcc-438a-bd55-06f5137b6887",
   "metadata": {},
   "outputs": [
    {
     "name": "stdout",
     "output_type": "stream",
     "text": [
      "Inside function: x = 5\n",
      "Outside function: x = 10\n"
     ]
    }
   ],
   "source": [
    "# Global and Local Scope\n",
    "x = 10  # Global variable\n",
    "\n",
    "def modify():\n",
    "    x = 5  # Local variable\n",
    "    print(f\"Inside function: x = {x}\")\n",
    "\n",
    "modify()\n",
    "print(f\"Outside function: x = {x}\")\n"
   ]
  },
  {
   "cell_type": "markdown",
   "id": "eec68d53-cdb7-4f79-8136-7637af6b5f16",
   "metadata": {},
   "source": [
    "<font size=\"4\">Special Functions: Lambda, Map, and Filter</font>"
   ]
  },
  {
   "cell_type": "markdown",
   "id": "d3566277-c78a-4ef8-914c-9209acdc7fc7",
   "metadata": {},
   "source": [
    "<font size=\"3\">Lambda Functions</font>"
   ]
  },
  {
   "cell_type": "code",
   "execution_count": 18,
   "id": "a6afd04d-705e-4bcb-8774-699b6d5714b5",
   "metadata": {},
   "outputs": [
    {
     "name": "stdout",
     "output_type": "stream",
     "text": [
      "8\n"
     ]
    }
   ],
   "source": [
    "# Lambda function example\n",
    "add = lambda x, y: x + y\n",
    "print(add(5, 3))\n"
   ]
  },
  {
   "cell_type": "markdown",
   "id": "20dfdd4e-782b-42c3-a76e-300c79cc63ed",
   "metadata": {},
   "source": [
    "<font size=\"3\">Map</font>"
   ]
  },
  {
   "cell_type": "code",
   "execution_count": 19,
   "id": "597dedf7-dba2-423c-8a37-6f047ce18d5b",
   "metadata": {},
   "outputs": [
    {
     "name": "stdout",
     "output_type": "stream",
     "text": [
      "[1, 4, 9, 16]\n"
     ]
    }
   ],
   "source": [
    "# Using map to square numbers in a list\n",
    "nums = [1, 2, 3, 4]\n",
    "squared = list(map(lambda x: x**2, nums))\n",
    "print(squared)\n"
   ]
  },
  {
   "cell_type": "markdown",
   "id": "06c5a7ce-88e9-43b0-9a91-e2a351a6d7b1",
   "metadata": {},
   "source": [
    "<font size=\"3\">Filter</font>"
   ]
  },
  {
   "cell_type": "code",
   "execution_count": 21,
   "id": "a5f74456-8f8b-47d2-b8c3-ef982bd32068",
   "metadata": {},
   "outputs": [
    {
     "name": "stdout",
     "output_type": "stream",
     "text": [
      "[2, 4, 6]\n"
     ]
    }
   ],
   "source": [
    "# Using filter to find even numbers\n",
    "nums = [1, 2, 3, 4, 5, 6]\n",
    "evens = list(filter(lambda x: x % 2 == 0, nums))\n",
    "print(evens)\n"
   ]
  },
  {
   "cell_type": "markdown",
   "id": "d3d9d872-7f86-4c32-939b-0cbba99f9c09",
   "metadata": {},
   "source": [
    "<font size=\"3\">Recursion</font>"
   ]
  },
  {
   "cell_type": "code",
   "execution_count": 22,
   "id": "767fae98-5414-439a-8654-7901f93eaf44",
   "metadata": {},
   "outputs": [
    {
     "name": "stdout",
     "output_type": "stream",
     "text": [
      "120\n"
     ]
    }
   ],
   "source": [
    "# Recursive function to calculate factorial\n",
    "def factorial(n):\n",
    "    if n == 1:\n",
    "        return 1\n",
    "    else:\n",
    "        return n * factorial(n - 1)\n",
    "\n",
    "print(factorial(5))  # Output: 120\n"
   ]
  },
  {
   "cell_type": "markdown",
   "id": "433c0121-8054-4ce2-8334-f2f67ec320b9",
   "metadata": {},
   "source": [
    "<font size=\"4\">Functional Programming and Reference Functions</font>"
   ]
  },
  {
   "cell_type": "markdown",
   "id": "aa9f5b91-6938-4a5f-9033-c1f008b1e1dc",
   "metadata": {},
   "source": [
    "<font size=\"3\">Higher-Order Functions</font>"
   ]
  },
  {
   "cell_type": "code",
   "execution_count": 23,
   "id": "d0afa515-3568-4473-b21a-7528f18128fc",
   "metadata": {},
   "outputs": [
    {
     "name": "stdout",
     "output_type": "stream",
     "text": [
      "81\n"
     ]
    }
   ],
   "source": [
    "def apply_twice(func, value):\n",
    "    return func(func(value))\n",
    "\n",
    "def square(x):\n",
    "    return x * x\n",
    "\n",
    "print(apply_twice(square, 3))  # Output: 81\n"
   ]
  },
  {
   "cell_type": "markdown",
   "id": "a51e4674-3988-4d7a-bbfb-29e60c992b6b",
   "metadata": {},
   "source": [
    "<font size=\"3\">Functions as First-Class Citizens</font>"
   ]
  },
  {
   "cell_type": "code",
   "execution_count": 24,
   "id": "05657802-d2d9-4048-958e-163952d1b47f",
   "metadata": {},
   "outputs": [
    {
     "name": "stdout",
     "output_type": "stream",
     "text": [
      "Hello, Harsh!\n"
     ]
    }
   ],
   "source": [
    "def greet(name):\n",
    "    return f\"Hello, {name}!\"\n",
    "\n",
    "def welcome(func):\n",
    "    return func(\"Harsh\")\n",
    "\n",
    "# Passing a function as an argument\n",
    "print(welcome(greet))\n"
   ]
  }
 ],
 "metadata": {
  "kernelspec": {
   "display_name": "Python 3 (ipykernel)",
   "language": "python",
   "name": "python3"
  },
  "language_info": {
   "codemirror_mode": {
    "name": "ipython",
    "version": 3
   },
   "file_extension": ".py",
   "mimetype": "text/x-python",
   "name": "python",
   "nbconvert_exporter": "python",
   "pygments_lexer": "ipython3",
   "version": "3.11.5"
  }
 },
 "nbformat": 4,
 "nbformat_minor": 5
}
