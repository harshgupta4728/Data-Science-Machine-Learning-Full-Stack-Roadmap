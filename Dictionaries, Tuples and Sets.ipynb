{
 "cells": [
  {
   "cell_type": "markdown",
   "id": "4c8665bc-9664-434f-8643-3acf478b3844",
   "metadata": {},
   "source": [
    "<font size=\"5\">DICTIONARIES</font>"
   ]
  },
  {
   "cell_type": "markdown",
   "id": "331a17d9-aba2-4334-8361-bcf8eb35f4e1",
   "metadata": {},
   "source": [
    "<font size=\"3\">Dictionaries Basic</font>"
   ]
  },
  {
   "cell_type": "code",
   "execution_count": 1,
   "id": "bc48ecdb-b634-4953-b93d-dd0b52752fe1",
   "metadata": {},
   "outputs": [
    {
     "name": "stdout",
     "output_type": "stream",
     "text": [
      "Harsh\n",
      "{'name': 'Harsh', 'age': 21, 'city': 'Delhi', 'email': 'harsh@example.com'}\n",
      "{'name': 'Harsh', 'age': 22, 'city': 'Delhi', 'email': 'harsh@example.com'}\n"
     ]
    }
   ],
   "source": [
    "# Creating a dictionary\n",
    "person = {\n",
    "    \"name\": \"Harsh\",\n",
    "    \"age\": 21,\n",
    "    \"city\": \"Delhi\"\n",
    "}\n",
    "\n",
    "# Accessing values\n",
    "print(person[\"name\"])\n",
    "\n",
    "# Adding a new key-value pair\n",
    "person[\"email\"] = \"harsh@example.com\"\n",
    "print(person)\n",
    "\n",
    "# Modifying a value\n",
    "person[\"age\"] = 22\n",
    "print(person)"
   ]
  },
  {
   "cell_type": "markdown",
   "id": "77cdb2f4-90bf-4908-98c4-9d16baf212ef",
   "metadata": {},
   "source": [
    "<font size=\"3\">Operations</font>"
   ]
  },
  {
   "cell_type": "code",
   "execution_count": 2,
   "id": "2d660147-6841-4d86-86dc-d825d24b0df1",
   "metadata": {},
   "outputs": [
    {
     "name": "stdout",
     "output_type": "stream",
     "text": [
      "True\n",
      "{'name': 'Harsh', 'age': 22, 'email': 'harsh@example.com'}\n",
      "Not Found\n"
     ]
    }
   ],
   "source": [
    "# Checking if a key exists\n",
    "print(\"name\" in person)\n",
    "\n",
    "# Removing a key-value pair\n",
    "del person[\"city\"]\n",
    "print(person)\n",
    "\n",
    "# Get a value with default if the key doesn’t exist\n",
    "print(person.get(\"city\", \"Not Found\"))"
   ]
  },
  {
   "cell_type": "markdown",
   "id": "4cc406d7-6369-48e2-b887-3ad0b7195aa5",
   "metadata": {},
   "source": [
    "<font size=\"3\">Comprehensions</font>"
   ]
  },
  {
   "cell_type": "code",
   "execution_count": 4,
   "id": "66fe95f0-8fe8-425e-96d5-1243a4082466",
   "metadata": {},
   "outputs": [
    {
     "name": "stdout",
     "output_type": "stream",
     "text": [
      "{0: 0, 1: 1, 2: 4, 3: 9, 4: 16}\n"
     ]
    }
   ],
   "source": [
    "# Create a dictionary of squares\n",
    "squares = {x: x**2 for x in range(5)}\n",
    "print(squares)"
   ]
  },
  {
   "cell_type": "markdown",
   "id": "52cdc6e1-2e0c-4a3e-9fff-8eaa00ada95b",
   "metadata": {},
   "source": [
    "<font size=\"3\">Dictionaries Methods</font>"
   ]
  },
  {
   "cell_type": "code",
   "execution_count": 6,
   "id": "3df42fa5-9b77-4b82-a6b3-19caa140f65c",
   "metadata": {},
   "outputs": [
    {
     "name": "stdout",
     "output_type": "stream",
     "text": [
      "dict_keys(['name', 'age', 'email'])\n",
      "dict_values(['Harsh', 22, 'harsh@example.com'])\n",
      "dict_items([('name', 'Harsh'), ('age', 22), ('email', 'harsh@example.com')])\n",
      "22\n",
      "{'name': 'Harsh', 'email': 'harsh@example.com'}\n",
      "{'name': 'Harsh', 'email': 'harsh@example.com', 'age': 23, 'city': 'Delhi'}\n"
     ]
    }
   ],
   "source": [
    "# keys(), values(), and items() methods\n",
    "print(person.keys())\n",
    "print(person.values())\n",
    "print(person.items())  \n",
    "\n",
    "# pop() - Removes the specified key and returns its value\n",
    "age = person.pop(\"age\")\n",
    "print(age)  \n",
    "print(person) \n",
    "\n",
    "# update() - Update dictionary with another dictionary or key-value pairs\n",
    "person.update({\"age\": 23, \"city\": \"Delhi\"})\n",
    "print(person)"
   ]
  },
  {
   "cell_type": "markdown",
   "id": "eb149d38-c085-4efc-8d81-b29e06e0aae7",
   "metadata": {},
   "source": [
    "<font size=\"5\">TUPLES</font>"
   ]
  },
  {
   "cell_type": "markdown",
   "id": "5db4dbb5-4e9d-443d-8078-afc9c47fcd3a",
   "metadata": {},
   "source": [
    "<font size=\"3\">Tuples Basics</font>"
   ]
  },
  {
   "cell_type": "code",
   "execution_count": 7,
   "id": "826e6fc4-80c8-487b-b5df-fdca0340e62c",
   "metadata": {},
   "outputs": [
    {
     "name": "stdout",
     "output_type": "stream",
     "text": [
      "Harsh\n"
     ]
    }
   ],
   "source": [
    "# Creating a tuple\n",
    "person_tuple = (\"Harsh\", 21, \"Delhi\")\n",
    "\n",
    "# Accessing tuple elements\n",
    "print(person_tuple[0])\n",
    "\n",
    "# Tuples are immutable, so the following line would raise an error if uncommented:\n",
    "# person_tuple[1] = 22"
   ]
  },
  {
   "cell_type": "markdown",
   "id": "5d2c651a-e3e7-4a8d-9d92-69841e66b149",
   "metadata": {},
   "source": [
    "<font size=\"3\">Tuples Comprehensions</font>"
   ]
  },
  {
   "cell_type": "code",
   "execution_count": 8,
   "id": "c778489a-913f-43e1-b4c7-eb880af3fc7c",
   "metadata": {},
   "outputs": [
    {
     "name": "stdout",
     "output_type": "stream",
     "text": [
      "(0, 1, 4, 9, 16)\n"
     ]
    }
   ],
   "source": [
    "# Creating a tuple using a generator expression\n",
    "squares_tuple = tuple(x**2 for x in range(5))\n",
    "print(squares_tuple)"
   ]
  },
  {
   "cell_type": "markdown",
   "id": "74e669c7-6fec-4205-baf6-55e7dd36e58c",
   "metadata": {},
   "source": [
    "<font size=\"3\">Tuple Methods</font>"
   ]
  },
  {
   "cell_type": "code",
   "execution_count": 9,
   "id": "303eb66f-8aa5-4bea-bf0e-eab29c9124d7",
   "metadata": {},
   "outputs": [
    {
     "name": "stdout",
     "output_type": "stream",
     "text": [
      "2\n",
      "3\n"
     ]
    }
   ],
   "source": [
    "# count() - Counts the occurrences of an element in the tuple\n",
    "nums = (1, 2, 2, 3, 4)\n",
    "print(nums.count(2))\n",
    "\n",
    "# index() - Finds the index of the first occurrence of an element\n",
    "print(nums.index(3))"
   ]
  },
  {
   "cell_type": "markdown",
   "id": "c92c4c65-5027-493c-bbd4-25cdfd1953d8",
   "metadata": {},
   "source": [
    "<font size=\"5\">SETS</font>"
   ]
  },
  {
   "cell_type": "markdown",
   "id": "9683948d-0b6d-42dd-a5f4-6fd51292cb61",
   "metadata": {},
   "source": [
    "<font size=\"3\">Sets Basics</font>"
   ]
  },
  {
   "cell_type": "code",
   "execution_count": 12,
   "id": "6243da8a-2d5f-4a52-89c5-facb46826b38",
   "metadata": {},
   "outputs": [
    {
     "name": "stdout",
     "output_type": "stream",
     "text": [
      "{'apple', 'banana', 'cherry', 'orange'}\n",
      "{'apple', 'cherry', 'orange'}\n",
      "{'apple', 'cherry', 'orange'}\n"
     ]
    }
   ],
   "source": [
    "# Creating a set\n",
    "fruits = {\"apple\", \"banana\", \"cherry\"}\n",
    "\n",
    "# Adding elements\n",
    "fruits.add(\"orange\")\n",
    "print(fruits)  \n",
    "\n",
    "# Removing elements\n",
    "fruits.remove(\"banana\")\n",
    "print(fruits) \n",
    "\n",
    "# Trying to add duplicate items (sets ignore duplicates)\n",
    "fruits.add(\"apple\")\n",
    "print(fruits) "
   ]
  },
  {
   "cell_type": "markdown",
   "id": "1b59e96a-6ecf-482c-ac64-d04f2153204c",
   "metadata": {},
   "source": [
    "<font size=\"3\">Sets Operations</font>"
   ]
  },
  {
   "cell_type": "code",
   "execution_count": 13,
   "id": "8d08daf8-db9a-4274-a352-c2248cb54047",
   "metadata": {},
   "outputs": [
    {
     "name": "stdout",
     "output_type": "stream",
     "text": [
      "True\n"
     ]
    }
   ],
   "source": [
    "# Checking membership\n",
    "print(\"apple\" in fruits)\n",
    "\n",
    "# Removing elements safely using discard() (no error if the element doesn't exist)\n",
    "fruits.discard(\"banana\")"
   ]
  },
  {
   "cell_type": "markdown",
   "id": "cf4ec0eb-bf7b-4ed0-9918-97f5fd54e2e9",
   "metadata": {},
   "source": [
    "<font size=\"3\">Union</font>"
   ]
  },
  {
   "cell_type": "code",
   "execution_count": 14,
   "id": "392e0caf-4832-4c76-9c12-3ee375be56cb",
   "metadata": {},
   "outputs": [
    {
     "name": "stdout",
     "output_type": "stream",
     "text": [
      "{1, 2, 3, 4, 5}\n"
     ]
    }
   ],
   "source": [
    "set1 = {1, 2, 3}\n",
    "set2 = {3, 4, 5}\n",
    "union_set = set1.union(set2)\n",
    "print(union_set) "
   ]
  },
  {
   "cell_type": "markdown",
   "id": "e16f117b-5e1b-4fa0-9479-bba0a9840b15",
   "metadata": {},
   "source": [
    "<font size=\"3\">Intersection</font>"
   ]
  },
  {
   "cell_type": "code",
   "execution_count": 15,
   "id": "a0f3dbac-4140-4977-a221-734e7a3a33d1",
   "metadata": {},
   "outputs": [
    {
     "name": "stdout",
     "output_type": "stream",
     "text": [
      "{3}\n"
     ]
    }
   ],
   "source": [
    "intersection_set = set1.intersection(set2)\n",
    "print(intersection_set)"
   ]
  },
  {
   "cell_type": "markdown",
   "id": "66e8b13a-4673-41d4-a902-1de22101f32f",
   "metadata": {},
   "source": [
    "<font size=\"3\">Difference and Symmetric Difference</font>"
   ]
  },
  {
   "cell_type": "code",
   "execution_count": 16,
   "id": "12cd5d4b-6115-47e9-b999-f8baf6c37dc2",
   "metadata": {},
   "outputs": [
    {
     "name": "stdout",
     "output_type": "stream",
     "text": [
      "{1, 2}\n",
      "{1, 2, 4, 5}\n"
     ]
    }
   ],
   "source": [
    "# Difference\n",
    "difference_set = set1.difference(set2)\n",
    "print(difference_set) \n",
    "\n",
    "# Symmetric Difference\n",
    "sym_diff_set = set1.symmetric_difference(set2)\n",
    "print(sym_diff_set)"
   ]
  }
 ],
 "metadata": {
  "kernelspec": {
   "display_name": "Python 3 (ipykernel)",
   "language": "python",
   "name": "python3"
  },
  "language_info": {
   "codemirror_mode": {
    "name": "ipython",
    "version": 3
   },
   "file_extension": ".py",
   "mimetype": "text/x-python",
   "name": "python",
   "nbconvert_exporter": "python",
   "pygments_lexer": "ipython3",
   "version": "3.11.5"
  }
 },
 "nbformat": 4,
 "nbformat_minor": 5
}
