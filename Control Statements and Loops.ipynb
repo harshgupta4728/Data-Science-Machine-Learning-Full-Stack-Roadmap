{
 "cells": [
  {
   "cell_type": "markdown",
   "id": "54e790ea-8bd5-40a2-a8c5-5141143939f0",
   "metadata": {},
   "source": [
    "<font size=\"5\">CONTROL STATEMENTS</font>"
   ]
  },
  {
   "cell_type": "markdown",
   "id": "ef1249cc-c2d3-40be-ae08-cded31a2e246",
   "metadata": {},
   "source": [
    "<font size=\"3\">If Else</font>"
   ]
  },
  {
   "cell_type": "code",
   "execution_count": 4,
   "id": "f085ace8-547e-4437-a930-6a45d87f80a0",
   "metadata": {},
   "outputs": [
    {
     "name": "stdout",
     "output_type": "stream",
     "text": [
      "x is greater than 5\n"
     ]
    }
   ],
   "source": [
    "# (a) If\n",
    "\n",
    "x = 10\n",
    "if x > 5:\n",
    "    print(\"x is greater than 5\")"
   ]
  },
  {
   "cell_type": "code",
   "execution_count": 6,
   "id": "97fd8862-f5bd-46bf-9e3b-e9921048f388",
   "metadata": {},
   "outputs": [
    {
     "name": "stdout",
     "output_type": "stream",
     "text": [
      "x is less than or equal to 5\n"
     ]
    }
   ],
   "source": [
    "# (b) Else\n",
    "\n",
    "x = 3\n",
    "if x > 5:\n",
    "    print(\"x is greater than 5\")\n",
    "else:\n",
    "    print(\"x is less than or equal to 5\")"
   ]
  },
  {
   "cell_type": "code",
   "execution_count": 7,
   "id": "f4299270-8b5c-479b-bf0b-54b2ecb2f350",
   "metadata": {},
   "outputs": [
    {
     "name": "stdout",
     "output_type": "stream",
     "text": [
      "x is greater than 5 but less than or equal to 10\n"
     ]
    }
   ],
   "source": [
    "# (c) Else If (Elif)\n",
    "\n",
    "x = 7\n",
    "if x > 10:\n",
    "    print(\"x is greater than 10\")\n",
    "elif x > 5:\n",
    "    print(\"x is greater than 5 but less than or equal to 10\")\n",
    "else:\n",
    "    print(\"x is 5 or less\")"
   ]
  },
  {
   "cell_type": "code",
   "execution_count": 8,
   "id": "e17edd98-c6ca-4d45-bc59-819a6a0ea0c0",
   "metadata": {},
   "outputs": [
    {
     "name": "stdout",
     "output_type": "stream",
     "text": [
      "Greater than 5\n"
     ]
    }
   ],
   "source": [
    "# (d) If-Else Ternary Expression\n",
    "\n",
    "x = 10\n",
    "result = \"Greater than 5\" if x > 5 else \"Less than or equal to 5\"\n",
    "print(result)"
   ]
  },
  {
   "cell_type": "code",
   "execution_count": 9,
   "id": "fb2576ee-b915-4f11-8b46-ae6e64ae44af",
   "metadata": {},
   "outputs": [
    {
     "name": "stdout",
     "output_type": "stream",
     "text": [
      "i is smaller than 15\n",
      "i is smaller than 12 too\n"
     ]
    }
   ],
   "source": [
    "# (e) Nested-If\n",
    "\n",
    "i = 10\n",
    "if (i == 10):\n",
    "  \n",
    "    #  First if statement\n",
    "    if (i < 15):\n",
    "        print(\"i is smaller than 15\")\n",
    "        \n",
    "    # Nested - if statement\n",
    "    # Will only be executed if statement above\n",
    "    # it is true\n",
    "    if (i < 12):\n",
    "        print(\"i is smaller than 12 too\")\n",
    "    else:\n",
    "        print(\"i is greater than 15\")"
   ]
  },
  {
   "cell_type": "markdown",
   "id": "4de6c33a-2ca5-4b8a-883e-a1d045e24436",
   "metadata": {},
   "source": [
    "<font size=\"3\">While Loops</font>"
   ]
  },
  {
   "cell_type": "code",
   "execution_count": 10,
   "id": "8383b35a-b362-49c9-ae14-e1639fe362cd",
   "metadata": {},
   "outputs": [
    {
     "name": "stdout",
     "output_type": "stream",
     "text": [
      "Hello Harsh\n",
      "Hello Harsh\n",
      "Hello Harsh\n"
     ]
    }
   ],
   "source": [
    "# (a) Basic While Loop\n",
    "\n",
    "count = 0\n",
    "while (count < 3):    \n",
    "    count = count + 1\n",
    "    print(\"Hello Harsh\")"
   ]
  },
  {
   "cell_type": "code",
   "execution_count": 11,
   "id": "c8f0a7ce-8c79-49a4-a52b-4a7a1b876a83",
   "metadata": {},
   "outputs": [
    {
     "name": "stdout",
     "output_type": "stream",
     "text": [
      "i = 1, j = 1\n",
      "i = 1, j = 2\n",
      "i = 1, j = 3\n",
      "i = 2, j = 1\n",
      "i = 2, j = 2\n",
      "i = 2, j = 3\n",
      "i = 3, j = 1\n",
      "i = 3, j = 2\n",
      "i = 3, j = 3\n"
     ]
    }
   ],
   "source": [
    "# (b) Nested While Loops\n",
    "\n",
    "i = 1\n",
    "while i <= 3:\n",
    "    j = 1\n",
    "    while j <= 3:\n",
    "        print(f\"i = {i}, j = {j}\")\n",
    "        j += 1\n",
    "    i += 1"
   ]
  },
  {
   "cell_type": "code",
   "execution_count": 12,
   "id": "61c29a63-bd6a-4ad1-83dc-fd1017336d60",
   "metadata": {},
   "outputs": [
    {
     "name": "stdout",
     "output_type": "stream",
     "text": [
      "1\n",
      "2\n"
     ]
    }
   ],
   "source": [
    "# (c) Using Break in a While Loop\n",
    "i = 1\n",
    "while i <= 5:\n",
    "    if i == 3:\n",
    "        break\n",
    "    print(i)\n",
    "    i += 1"
   ]
  },
  {
   "cell_type": "code",
   "execution_count": 13,
   "id": "6e3c2d8c-62fb-40a6-8ca8-64e0df14ca86",
   "metadata": {},
   "outputs": [
    {
     "name": "stdout",
     "output_type": "stream",
     "text": [
      "1\n",
      "2\n",
      "4\n",
      "5\n"
     ]
    }
   ],
   "source": [
    "# (d) Using Continue in a While Loop\n",
    "i = 1\n",
    "while i <= 5:\n",
    "    if i == 3:\n",
    "        i += 1\n",
    "        continue\n",
    "    print(i)\n",
    "    i += 1\n"
   ]
  },
  {
   "cell_type": "code",
   "execution_count": 14,
   "id": "79e4773f-86e3-4256-b69a-6ad91a086925",
   "metadata": {},
   "outputs": [
    {
     "name": "stdout",
     "output_type": "stream",
     "text": [
      "1\n",
      "2\n",
      "3\n",
      "4\n",
      "5\n"
     ]
    }
   ],
   "source": [
    "# (e) Using pass in a While Loop\n",
    "i = 1\n",
    "while i <= 5:\n",
    "    if i == 3:\n",
    "        pass  # Placeholder, does nothing\n",
    "    print(i)\n",
    "    i += 1"
   ]
  },
  {
   "cell_type": "code",
   "execution_count": 15,
   "id": "2be4440b-e297-4a97-9238-5291cf8717d7",
   "metadata": {},
   "outputs": [
    {
     "name": "stdout",
     "output_type": "stream",
     "text": [
      "1\n",
      "2\n",
      "3\n",
      "Loop completed\n"
     ]
    }
   ],
   "source": [
    "# (f) While-Else Loop\n",
    "i = 1\n",
    "while i <= 3:\n",
    "    print(i)\n",
    "    i += 1\n",
    "else:\n",
    "    print(\"Loop completed\")\n"
   ]
  },
  {
   "cell_type": "markdown",
   "id": "8ec7b5a1-e430-4d8d-bec7-eeb0e9750b25",
   "metadata": {},
   "source": [
    "<font size=\"3\">For Loops</font>"
   ]
  },
  {
   "cell_type": "code",
   "execution_count": 16,
   "id": "d33d06c5-a09f-4116-b07d-a588056f2163",
   "metadata": {},
   "outputs": [
    {
     "name": "stdout",
     "output_type": "stream",
     "text": [
      "1\n",
      "2\n",
      "3\n",
      "4\n",
      "5\n"
     ]
    }
   ],
   "source": [
    "# For Loop with a List\n",
    "numbers = [1, 2, 3, 4, 5]\n",
    "for num in numbers:\n",
    "    print(num)\n"
   ]
  },
  {
   "cell_type": "code",
   "execution_count": 17,
   "id": "9d99c6f4-90f5-4a25-902a-b54a141a779a",
   "metadata": {},
   "outputs": [
    {
     "name": "stdout",
     "output_type": "stream",
     "text": [
      "i = 1, j = 1\n",
      "i = 1, j = 2\n",
      "i = 1, j = 3\n",
      "i = 2, j = 1\n",
      "i = 2, j = 2\n",
      "i = 2, j = 3\n",
      "i = 3, j = 1\n",
      "i = 3, j = 2\n",
      "i = 3, j = 3\n"
     ]
    }
   ],
   "source": [
    "# Nested For Loop\n",
    "for i in range(1, 4):\n",
    "    for j in range(1, 4):\n",
    "        print(f\"i = {i}, j = {j}\")\n"
   ]
  },
  {
   "cell_type": "code",
   "execution_count": 18,
   "id": "61e0f326-9b9b-4651-b464-036f4cb0c2b5",
   "metadata": {},
   "outputs": [
    {
     "name": "stdout",
     "output_type": "stream",
     "text": [
      "1\n",
      "2\n",
      "3\n"
     ]
    }
   ],
   "source": [
    "# Using Break in a For Loop\n",
    "for i in range(1, 6):\n",
    "    if i == 4:\n",
    "        break\n",
    "    print(i)\n"
   ]
  },
  {
   "cell_type": "code",
   "execution_count": 19,
   "id": "61a0a078-a318-4068-9e4f-96e9176c245b",
   "metadata": {},
   "outputs": [
    {
     "name": "stdout",
     "output_type": "stream",
     "text": [
      "1\n",
      "2\n",
      "4\n",
      "5\n"
     ]
    }
   ],
   "source": [
    "# Using Continue in a For Loop\n",
    "for i in range(1, 6):\n",
    "    if i == 3:\n",
    "        continue\n",
    "    print(i)\n"
   ]
  },
  {
   "cell_type": "code",
   "execution_count": 20,
   "id": "3f6c607c-2fc6-43ed-a6ce-e5b12ef0d0a7",
   "metadata": {},
   "outputs": [
    {
     "name": "stdout",
     "output_type": "stream",
     "text": [
      "1\n",
      "2\n",
      "3\n",
      "4\n",
      "5\n"
     ]
    }
   ],
   "source": [
    "# Using Pass in a For Loop\n",
    "for i in range(1, 6):\n",
    "    if i == 3:\n",
    "        pass  # Placeholder, does nothing\n",
    "    print(i)\n"
   ]
  },
  {
   "cell_type": "code",
   "execution_count": 25,
   "id": "e9fdeb74-2c64-4f29-9f03-7714b831ad0e",
   "metadata": {},
   "outputs": [
    {
     "name": "stdout",
     "output_type": "stream",
     "text": [
      "1\n",
      "2\n",
      "3\n",
      "Loop completed\n"
     ]
    }
   ],
   "source": [
    "# For-Else Loop\n",
    "for i in range(1, 4):\n",
    "    print(i)\n",
    "else:\n",
    "    print(\"Loop completed\")\n"
   ]
  }
 ],
 "metadata": {
  "kernelspec": {
   "display_name": "Python 3 (ipykernel)",
   "language": "python",
   "name": "python3"
  },
  "language_info": {
   "codemirror_mode": {
    "name": "ipython",
    "version": 3
   },
   "file_extension": ".py",
   "mimetype": "text/x-python",
   "name": "python",
   "nbconvert_exporter": "python",
   "pygments_lexer": "ipython3",
   "version": "3.11.5"
  }
 },
 "nbformat": 4,
 "nbformat_minor": 5
}
