{
 "cells": [
  {
   "cell_type": "markdown",
   "id": "27e37ee2-cef3-4da0-9649-92a421beb95d",
   "metadata": {},
   "source": [
    "<font size=\"5\">VARIABLES AND PRINT() FUNCTION</font>\r\n"
   ]
  },
  {
   "cell_type": "code",
   "execution_count": 24,
   "id": "eea55e5d-19d0-44e1-a9e9-0cd45f33aff5",
   "metadata": {},
   "outputs": [
    {
     "name": "stdout",
     "output_type": "stream",
     "text": [
      "10\n",
      "15.0\n",
      "Hello, Python!\n"
     ]
    }
   ],
   "source": [
    "# Assigning values to variables\n",
    "\n",
    "a = 10  #Integer\n",
    "b = 15.0  #Float\n",
    "c = \"Hello, Python!\"  #String\n",
    "\n",
    "\n",
    "# Displaying values using print() function\n",
    "\n",
    "print(a)\n",
    "print(b)\n",
    "print(c)"
   ]
  },
  {
   "cell_type": "code",
   "execution_count": 25,
   "id": "17e6eaee-17f0-4241-abef-f5d0879d88a7",
   "metadata": {},
   "outputs": [
    {
     "name": "stdout",
     "output_type": "stream",
     "text": [
      "5\n",
      "Harsh\n",
      "15.0\n"
     ]
    }
   ],
   "source": [
    "# Multiple assignments\n",
    "\n",
    "x, y, z = 5, \"Harsh\", 15.0   # We can assign different data types to variables in a single line\n",
    "\n",
    "print(x)\n",
    "print(y)\n",
    "print(z)"
   ]
  },
  {
   "cell_type": "code",
   "execution_count": 26,
   "id": "78aa9158-ea7d-43d4-86a0-4bd34d0da558",
   "metadata": {},
   "outputs": [
    {
     "name": "stdout",
     "output_type": "stream",
     "text": [
      "20\n"
     ]
    }
   ],
   "source": [
    "# Re-assigning variables\n",
    "\n",
    "a = 20\n",
    "print(a)"
   ]
  },
  {
   "cell_type": "code",
   "execution_count": 27,
   "id": "fbdc0b86-0d69-455f-86f7-3936afbef706",
   "metadata": {},
   "outputs": [
    {
     "name": "stdout",
     "output_type": "stream",
     "text": [
      "20.0\n"
     ]
    }
   ],
   "source": [
    "# Using variables in expressions(the data types must be the same to perform operations)\n",
    "\n",
    "# Uncomment to see error: result = x + y + z  # It will show an error because we cannot perform addition on numeric types and string type\n",
    "# print(result)\n",
    "\n",
    "# adding x and z since both are numeric types\n",
    "\n",
    "result = x + z\n",
    "print(result)  # The result is a float because one of the operands (z) is a float, and Python preserves precision by returning a float."
   ]
  },
  {
   "cell_type": "code",
   "execution_count": 29,
   "id": "3ee1a012-080e-40b6-abe8-73656561e3a1",
   "metadata": {},
   "outputs": [
    {
     "name": "stdout",
     "output_type": "stream",
     "text": [
      "Harsh Gupta\n",
      "20\n",
      "True\n"
     ]
    }
   ],
   "source": [
    "# Variables with different data types\n",
    "\n",
    "name = \"Harsh Gupta\"  # String\n",
    "age = 20   # Integer\n",
    "is_student = True   # Bool\n",
    "\n",
    "print(name)\n",
    "print(age)\n",
    "print(is_student)"
   ]
  },
  {
   "cell_type": "code",
   "execution_count": 30,
   "id": "10b5a15d-126c-49f0-9349-a612d559886f",
   "metadata": {},
   "outputs": [
    {
     "name": "stdout",
     "output_type": "stream",
     "text": [
      "I Love Icecream\n",
      "I Love Icecream\n",
      "I Love Icecream\n"
     ]
    }
   ],
   "source": [
    "# Assigning the same string value to multiple variables\n",
    "\n",
    "x = y = z = \"I Love Icecream\"\n",
    "\n",
    "print(x)\n",
    "print(y) \n",
    "print(z)"
   ]
  },
  {
   "cell_type": "markdown",
   "id": "697b44be-fc1d-4ab0-8e89-cfdeb8c899b1",
   "metadata": {},
   "source": [
    "<font size=\"5\">INPUT FROM USER</font>\r\n"
   ]
  },
  {
   "cell_type": "code",
   "execution_count": 31,
   "id": "fc59e86e-56fa-4470-bea4-f4a0229a7281",
   "metadata": {},
   "outputs": [
    {
     "name": "stdin",
     "output_type": "stream",
     "text": [
      "Enter your name:  Harsh Gupta\n",
      "Enter your age:  20\n"
     ]
    },
    {
     "name": "stdout",
     "output_type": "stream",
     "text": [
      "Hello Harsh Gupta, you are 20 years old.\n"
     ]
    }
   ],
   "source": [
    "# Input from user using input() function\n",
    "\n",
    "name = input(\"Enter your name: \")\n",
    "age = int(input(\"Enter your age: \"))  # Converting input to integer\n",
    "\n",
    "print(f\"Hello {name}, you are {age} years old.\")\n"
   ]
  },
  {
   "cell_type": "markdown",
   "id": "913bb42e-2af4-4873-b2ef-571e00b1d0a2",
   "metadata": {},
   "source": [
    "<font size=\"5\">DATA TYPES</font>"
   ]
  },
  {
   "cell_type": "code",
   "execution_count": 32,
   "id": "59445f2e-aaea-44a0-9a89-329d0cfd358a",
   "metadata": {},
   "outputs": [
    {
     "name": "stdout",
     "output_type": "stream",
     "text": [
      "<class 'int'>\n",
      "<class 'float'>\n",
      "<class 'complex'>\n"
     ]
    }
   ],
   "source": [
    "# Data Types\n",
    "\n",
    "# (a) Numbers(int,float,complex)\n",
    "\n",
    "x = 5 # Integer\n",
    "y = 3.14 # Float\n",
    "z = 3 + 5j # Complex\n",
    "\n",
    "print(type(x))\n",
    "print(type(y))\n",
    "print(type(z))"
   ]
  },
  {
   "cell_type": "code",
   "execution_count": 33,
   "id": "b4683a2b-7cb9-45f1-b57d-8580882010ce",
   "metadata": {},
   "outputs": [
    {
     "name": "stdout",
     "output_type": "stream",
     "text": [
      "Hello, Python!\n",
      "H\n",
      "!\n",
      "Hello\n",
      "14\n"
     ]
    }
   ],
   "source": [
    "# (b) Strings\n",
    "\n",
    "string = \"Hello, Python!\"\n",
    "print(string)\n",
    "print(string[0])  # Accessing first character\n",
    "print(string[-1])  # Accessing last character\n",
    "print(string[0:5])  # Slicing a string\n",
    "print(len(string))  # Length of the string"
   ]
  },
  {
   "cell_type": "code",
   "execution_count": 34,
   "id": "316a50f9-ac4e-4444-813f-a0b1ca38162d",
   "metadata": {},
   "outputs": [
    {
     "name": "stdout",
     "output_type": "stream",
     "text": [
      "['apple', 'banana', 'cherry']\n",
      "banana\n",
      "['apple', 'blueberry', 'cherry']\n",
      "['apple', 'blueberry', 'cherry', 'orange']\n"
     ]
    }
   ],
   "source": [
    "# (c) Lists\n",
    "\n",
    "fruits = [\"apple\", \"banana\", \"cherry\"]\n",
    "print(fruits)\n",
    "print(fruits[1])  # Accessing by index\n",
    "\n",
    "# Modifying a list\n",
    "fruits[1] = \"blueberry\"\n",
    "print(fruits)\n",
    "\n",
    "# List operations\n",
    "fruits.append(\"orange\")  # Add an element at last\n",
    "print(fruits)"
   ]
  },
  {
   "cell_type": "code",
   "execution_count": 35,
   "id": "5c90ff5a-a072-4739-babd-db14ddd47d08",
   "metadata": {},
   "outputs": [
    {
     "name": "stdout",
     "output_type": "stream",
     "text": [
      "{'name': 'Harsh', 'age': 21, 'city': 'Delhi'}\n",
      "Harsh\n",
      "{'name': 'Harsh', 'age': 21, 'city': 'Delhi', 'email': 'harsh@example.com'}\n"
     ]
    }
   ],
   "source": [
    "# (d) Dictionaries\n",
    "\n",
    "person = {\"name\": \"Harsh\", \"age\": 21, \"city\": \"Delhi\"}\n",
    "print(person)\n",
    "print(person[\"name\"])  # Accessing a value by key\n",
    "\n",
    "# Adding a new key-value pair\n",
    "person[\"email\"] = \"harsh@example.com\"\n",
    "print(person)"
   ]
  },
  {
   "cell_type": "code",
   "execution_count": 36,
   "id": "3579d7cc-f04f-4675-af8b-5e816afba7cc",
   "metadata": {},
   "outputs": [
    {
     "name": "stdout",
     "output_type": "stream",
     "text": [
      "(10, 20)\n",
      "10\n"
     ]
    }
   ],
   "source": [
    "# (e) Tuples\n",
    "\n",
    "coordinates = (10, 20)\n",
    "print(coordinates)\n",
    "print(coordinates[0])\n",
    "\n",
    "# Tuples are immutable, so you cannot modify them directly\n",
    "# Uncomment to see error: coordinates[0] = 30"
   ]
  },
  {
   "cell_type": "code",
   "execution_count": 37,
   "id": "da10b223-98a2-4005-b1de-d02b7a1df22f",
   "metadata": {},
   "outputs": [
    {
     "name": "stdout",
     "output_type": "stream",
     "text": [
      "{'red', 'blue', 'green'}\n",
      "{'red', 'blue', 'green', 'yellow'}\n",
      "{'red', 'blue', 'green', 'yellow'}\n"
     ]
    }
   ],
   "source": [
    "# (f) Sets\n",
    "\n",
    "colors = {\"red\", \"green\", \"blue\"}\n",
    "print(colors)\n",
    "\n",
    "# Adding an element to a set\n",
    "colors.add(\"yellow\")\n",
    "print(colors)\n",
    "\n",
    "# Sets do not allow duplicates\n",
    "colors.add(\"red\")\n",
    "print(colors)  # Output will still have only one 'red'"
   ]
  },
  {
   "cell_type": "code",
   "execution_count": 38,
   "id": "83fe771a-1ee5-4b0f-b9af-0106f96b9ad2",
   "metadata": {},
   "outputs": [
    {
     "name": "stdout",
     "output_type": "stream",
     "text": [
      "<class 'NoneType'>\n",
      "True\n",
      "<class 'bool'>\n"
     ]
    }
   ],
   "source": [
    "# (g) Other Types\n",
    "\n",
    "x = None  # NoneType\n",
    "print(type(x))\n",
    "\n",
    "is_sunny = True  # Boolean\n",
    "print(is_sunny)\n",
    "print(type(is_sunny))"
   ]
  },
  {
   "cell_type": "markdown",
   "id": "d262cb43-26f5-43d1-8445-c1cb2972b533",
   "metadata": {},
   "source": [
    "<font size=\"5\">OPERATORS</font>"
   ]
  },
  {
   "cell_type": "code",
   "execution_count": 39,
   "id": "f17e5814-2c37-43b0-99d1-f31785c4c1c5",
   "metadata": {},
   "outputs": [
    {
     "name": "stdout",
     "output_type": "stream",
     "text": [
      "13\n",
      "7\n",
      "30\n",
      "3.3333333333333335\n",
      "3\n",
      "1\n",
      "1000\n"
     ]
    }
   ],
   "source": [
    "# (a) Arithmetic Operators\n",
    "\n",
    "x = 10\n",
    "y = 3\n",
    "\n",
    "print(x + y)  # Addition\n",
    "print(x - y)  # Subtraction\n",
    "print(x * y)  # Multiplication\n",
    "print(x / y)  # Division\n",
    "print(x // y)  # Floor division\n",
    "print(x % y)  # Modulus\n",
    "print(x ** y)  # Exponentiation"
   ]
  },
  {
   "cell_type": "code",
   "execution_count": 40,
   "id": "7dd9f079-33b5-4970-9b08-604dff8d786b",
   "metadata": {},
   "outputs": [
    {
     "name": "stdout",
     "output_type": "stream",
     "text": [
      "True\n",
      "False\n",
      "True\n",
      "False\n",
      "False\n",
      "True\n"
     ]
    }
   ],
   "source": [
    "# (b) Relational Operators\n",
    "\n",
    "x = 10\n",
    "y = 3\n",
    "\n",
    "print(x > y)   # Greater than \n",
    "print(x < y)   # Less than\n",
    "print(x >= y)  # Greater than or equal to\n",
    "print(x <= y)  # Less than or equal to\n",
    "print(x == y)  # Equal to\n",
    "print(x != y)  # Not equal to"
   ]
  },
  {
   "cell_type": "code",
   "execution_count": 41,
   "id": "ff5b0211-e7f1-4470-8838-a6b384a8f585",
   "metadata": {},
   "outputs": [
    {
     "name": "stdout",
     "output_type": "stream",
     "text": [
      "0\n",
      "14\n",
      "14\n",
      "-11\n",
      "20\n",
      "5\n"
     ]
    }
   ],
   "source": [
    "# (c) Bitwise Operators\n",
    "\n",
    "x = 10  # Binary: 1010\n",
    "y = 4   # Binary: 0100\n",
    "\n",
    "print(x & y)  # Bitwise AND\n",
    "print(x | y)  # Bitwise OR\n",
    "print(x ^ y)  # Bitwise XOR\n",
    "print(~x)     # Bitwise NOT\n",
    "print(x << 1) # Left Shift\n",
    "print(x >> 1) # Right Shift"
   ]
  },
  {
   "cell_type": "code",
   "execution_count": 42,
   "id": "e92dddad-6c03-43a4-9fd4-feff777d193b",
   "metadata": {},
   "outputs": [
    {
     "name": "stdout",
     "output_type": "stream",
     "text": [
      "False\n",
      "True\n",
      "False\n"
     ]
    }
   ],
   "source": [
    "# (d) Logical Operators\n",
    "\n",
    "a = True\n",
    "b = False\n",
    "\n",
    "print(a and b)  # Logical AND \n",
    "print(a or b)   # Logical OR\n",
    "print(not a)    # Logical NOT"
   ]
  },
  {
   "cell_type": "markdown",
   "id": "d0bab9e8-e16c-45ff-a71f-d25fa8f444af",
   "metadata": {},
   "source": [
    "<font size=\"5\">TYPE  CONVERSION</font>"
   ]
  },
  {
   "cell_type": "code",
   "execution_count": 43,
   "id": "2ff54daf-c621-4a1e-a1e7-6f4b6df2a7e8",
   "metadata": {},
   "outputs": [
    {
     "name": "stdout",
     "output_type": "stream",
     "text": [
      "5.0\n",
      "7\n",
      "10\n",
      "15.5\n",
      "100\n"
     ]
    }
   ],
   "source": [
    "# Integer to Float\n",
    "num_int = 5\n",
    "num_float = float(num_int)  # Convert int to float\n",
    "print(num_float)  # Output: 5.0\n",
    "\n",
    "# Float to Integer\n",
    "num_float = 7.8\n",
    "num_int = int(num_float)  # Convert float to int (truncates the decimal)\n",
    "print(num_int)  # Output: 7\n",
    "\n",
    "# String to Integer\n",
    "num_str = \"10\"\n",
    "num_int = int(num_str)  # Convert string to int\n",
    "print(num_int)  # Output: 10\n",
    "\n",
    "# String to Float\n",
    "num_str = \"15.5\"\n",
    "num_float = float(num_str)  # Convert string to float\n",
    "print(num_float)  # Output: 15.5\n",
    "\n",
    "# Using str() to convert numbers to strings\n",
    "num = 100\n",
    "num_str = str(num)  # Convert int to string\n",
    "print(num_str)  # Output: \"100\""
   ]
  }
 ],
 "metadata": {
  "kernelspec": {
   "display_name": "Python 3 (ipykernel)",
   "language": "python",
   "name": "python3"
  },
  "language_info": {
   "codemirror_mode": {
    "name": "ipython",
    "version": 3
   },
   "file_extension": ".py",
   "mimetype": "text/x-python",
   "name": "python",
   "nbconvert_exporter": "python",
   "pygments_lexer": "ipython3",
   "version": "3.11.5"
  }
 },
 "nbformat": 4,
 "nbformat_minor": 5
}
